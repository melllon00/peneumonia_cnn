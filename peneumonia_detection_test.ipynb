{
 "cells": [
  {
   "cell_type": "markdown",
   "metadata": {},
   "source": [
    "## 흉부 x-ray 사진을 인경신공망 학습을 이용하여 폐렴 환자 구분 하기"
   ]
  },
  {
   "cell_type": "markdown",
   "metadata": {},
   "source": [
    "### 기본 라이브러리 임포트"
   ]
  },
  {
   "cell_type": "code",
   "execution_count": 1,
   "metadata": {},
   "outputs": [
    {
     "name": "stderr",
     "output_type": "stream",
     "text": [
      "/usr/local/lib/python3.6/site-packages/h5py/__init__.py:36: FutureWarning: Conversion of the second argument of issubdtype from `float` to `np.floating` is deprecated. In future, it will be treated as `np.float64 == np.dtype(float).type`.\n",
      "  from ._conv import register_converters as _register_converters\n",
      "Using TensorFlow backend.\n"
     ]
    }
   ],
   "source": [
    "########################################\n",
    "##### 기본적으로 필요한 라이브러리 import #####\n",
    "########################################\n",
    "from tqdm import tqdm\n",
    "import matplotlib.pyplot as plt\n",
    "import os\n",
    "import cv2\n",
    "import skimage\n",
    "import numpy as np\n",
    "from glob import glob\n",
    "\n",
    "########################################\n",
    "##### 머신러닝 관련 라이브러리 import #####\n",
    "########################################\n",
    "import sklearn\n",
    "import scipy\n",
    "from skimage.transform import resize\n",
    "import keras.models as km\n",
    "import keras.layers as kl\n",
    "\n",
    "# Encode labels to hot vectors (ex : 2 -> [0,0,1,0,0,0,0,0,0,0])\n",
    "from keras.utils.np_utils import to_categorical"
   ]
  },
  {
   "cell_type": "markdown",
   "metadata": {},
   "source": [
    "### 데이터 경로 설정"
   ]
  },
  {
   "cell_type": "code",
   "execution_count": 2,
   "metadata": {},
   "outputs": [],
   "source": [
    "train_dir = \"../chest_xray/train/\"\n",
    "test_dir =  \"../chest_xray/test/\" "
   ]
  },
  {
   "cell_type": "markdown",
   "metadata": {},
   "source": [
    "### 데이터 크기 설정"
   ]
  },
  {
   "cell_type": "code",
   "execution_count": 3,
   "metadata": {},
   "outputs": [],
   "source": [
    "# 데이터 크기 (150 x 150)\n",
    "_N_ROW = 150  # 세로 150\n",
    "_N_COL = 150  # 가로 150\n",
    "_N_PIXEL = _N_ROW * _N_COL"
   ]
  },
  {
   "cell_type": "markdown",
   "metadata": {},
   "source": [
    "### 폴더에 있는 데이터를 읽어서, 추가 및 라벨링을 하는 함수 get_data 설정 "
   ]
  },
  {
   "cell_type": "code",
   "execution_count": 4,
   "metadata": {},
   "outputs": [],
   "source": [
    "def get_data(folder):\n",
    "    X = []\n",
    "    y = []\n",
    "    \n",
    "    for folderName in os.listdir(folder):\n",
    "        print( 'foldername = ' + folderName )\n",
    "        \n",
    "        if folderName.startswith('.'):\n",
    "            continue\n",
    "        \n",
    "        if folderName == 'NORMAL':\n",
    "            label = 0\n",
    "        elif folderName == 'PNEUMONIA':\n",
    "            label = 1\n",
    "        else:\n",
    "            print(\"Err! I don't know this data...\")\n",
    "            return\n",
    "\n",
    "        # out of memory 때문에 커널이 자꾸 죽기 때문에, 이미지 개수를 제한한다. \n",
    "        count_num = 0\n",
    "        for image_filename in tqdm(os.listdir(folder + folderName)):\n",
    "            count_num += 1 \n",
    "#             if count_num > 100 : \n",
    "#                 break \n",
    "            img_file = cv2.imread(folder + folderName + '/' + image_filename)\n",
    "            \n",
    "            if img_file is not None: \n",
    "                img_file = skimage.transform.resize(img_file, (_N_ROW, _N_COL, 3))\n",
    "                img_arr = np.asarray(img_file)\n",
    "                X.append(img_arr)\n",
    "                y.append(label)\n",
    "                    \n",
    "    X = np.asarray(X)\n",
    "    y = np.asarray(y)\n",
    "    \n",
    "    return X,y"
   ]
  },
  {
   "cell_type": "markdown",
   "metadata": {},
   "source": [
    "### 학습 데이터를 읽어오고 라벨도 읽어온다. "
   ]
  },
  {
   "cell_type": "code",
   "execution_count": 5,
   "metadata": {
    "scrolled": false
   },
   "outputs": [
    {
     "name": "stderr",
     "output_type": "stream",
     "text": [
      "  0%|          | 0/3876 [00:00<?, ?it/s]/usr/local/lib/python3.6/site-packages/skimage/transform/_warps.py:105: UserWarning: The default mode, 'constant', will be changed to 'reflect' in skimage 0.15.\n",
      "  warn(\"The default mode, 'constant', will be changed to 'reflect' in \"\n",
      "/usr/local/lib/python3.6/site-packages/skimage/transform/_warps.py:110: UserWarning: Anti-aliasing will be enabled by default in skimage 0.15 to avoid aliasing artifacts when down-sampling images.\n",
      "  warn(\"Anti-aliasing will be enabled by default in skimage 0.15 to \"\n",
      "  0%|          | 4/3876 [00:00<02:28, 26.00it/s]"
     ]
    },
    {
     "name": "stdout",
     "output_type": "stream",
     "text": [
      "foldername = .DS_Store\n",
      "foldername = PNEUMONIA\n"
     ]
    },
    {
     "name": "stderr",
     "output_type": "stream",
     "text": [
      "100%|██████████| 3876/3876 [03:02<00:00, 21.26it/s]\n",
      "  0%|          | 0/1342 [00:00<?, ?it/s]"
     ]
    },
    {
     "name": "stdout",
     "output_type": "stream",
     "text": [
      "foldername = NORMAL\n"
     ]
    },
    {
     "name": "stderr",
     "output_type": "stream",
     "text": [
      "100%|██████████| 1342/1342 [02:22<00:00,  9.40it/s]\n",
      "  1%|          | 4/390 [00:00<00:10, 35.18it/s]"
     ]
    },
    {
     "name": "stdout",
     "output_type": "stream",
     "text": [
      "foldername = .DS_Store\n",
      "foldername = PNEUMONIA\n"
     ]
    },
    {
     "name": "stderr",
     "output_type": "stream",
     "text": [
      "100%|██████████| 390/390 [00:13<00:00, 28.85it/s]\n",
      "  0%|          | 1/234 [00:00<00:33,  7.04it/s]"
     ]
    },
    {
     "name": "stdout",
     "output_type": "stream",
     "text": [
      "foldername = NORMAL\n"
     ]
    },
    {
     "name": "stderr",
     "output_type": "stream",
     "text": [
      "100%|██████████| 234/234 [00:22<00:00, 10.23it/s]\n"
     ]
    }
   ],
   "source": [
    "X_train, y_train = get_data(train_dir)\n",
    "X_test, y_test= get_data(test_dir)\n",
    "\n",
    "y_trainHot = to_categorical(y_train, num_classes = 2)\n",
    "y_testHot = to_categorical(y_test, num_classes = 2)"
   ]
  },
  {
   "cell_type": "code",
   "execution_count": 9,
   "metadata": {},
   "outputs": [
    {
     "data": {
      "text/plain": [
       "array([[0., 1.],\n",
       "       [0., 1.],\n",
       "       [0., 1.],\n",
       "       ...,\n",
       "       [1., 0.],\n",
       "       [1., 0.],\n",
       "       [1., 0.]], dtype=float32)"
      ]
     },
     "execution_count": 9,
     "metadata": {},
     "output_type": "execute_result"
    }
   ],
   "source": [
    "y_trainHot"
   ]
  },
  {
   "cell_type": "code",
   "execution_count": 8,
   "metadata": {},
   "outputs": [
    {
     "data": {
      "text/plain": [
       "array([[0., 1.],\n",
       "       [0., 1.],\n",
       "       [0., 1.],\n",
       "       ...,\n",
       "       [1., 0.],\n",
       "       [1., 0.],\n",
       "       [1., 0.]], dtype=float32)"
      ]
     },
     "execution_count": 8,
     "metadata": {},
     "output_type": "execute_result"
    }
   ],
   "source": [
    "y_testHot"
   ]
  },
  {
   "cell_type": "markdown",
   "metadata": {},
   "source": [
    "### 이미지를 보여주는 함수 정의 "
   ]
  },
  {
   "cell_type": "code",
   "execution_count": 6,
   "metadata": {},
   "outputs": [],
   "source": [
    "def show_img(a):\n",
    "    \"\"\"\n",
    "    Plot histogram of RGB Pixel Intensities\n",
    "    \"\"\"\n",
    "#     plt.figure(figsize=(10,5))\n",
    "#     plt.subplot(1,2,1)\n",
    "    plt.imshow(a)"
   ]
  },
  {
   "cell_type": "markdown",
   "metadata": {},
   "source": [
    "### 비정상의 폐"
   ]
  },
  {
   "cell_type": "code",
   "execution_count": 7,
   "metadata": {},
   "outputs": [
    {
     "name": "stdout",
     "output_type": "stream",
     "text": [
      "1\n"
     ]
    },
    {
     "data": {
      "image/png": "[encoded data removed]",
      "text/plain": [
       "<Figure size 432x288 with 1 Axes>"
      ]
     },
     "metadata": {},
     "output_type": "display_data"
    }
   ],
   "source": [
    "show_img(X_train[0])\n",
    "print(y_train[0])"
   ]
  },
  {
   "cell_type": "code",
   "execution_count": 8,
   "metadata": {},
   "outputs": [
    {
     "name": "stdout",
     "output_type": "stream",
     "text": [
      "1\n"
     ]
    },
    {
     "data": {
      "image/png": "[encoded data removed]",
      "text/plain": [
       "<Figure size 432x288 with 1 Axes>"
      ]
     },
     "metadata": {},
     "output_type": "display_data"
    }
   ],
   "source": [
    "show_img(X_test[0])\n",
    "print(y_test[0])"
   ]
  },
  {
   "cell_type": "markdown",
   "metadata": {},
   "source": [
    "### 정상인의 폐"
   ]
  },
  {
   "cell_type": "code",
   "execution_count": 9,
   "metadata": {},
   "outputs": [
    {
     "name": "stdout",
     "output_type": "stream",
     "text": [
      "1\n"
     ]
    },
    {
     "data": {
      "image/png": "[encoded data removed]",
      "text/plain": [
       "<Figure size 432x288 with 1 Axes>"
      ]
     },
     "metadata": {},
     "output_type": "display_data"
    }
   ],
   "source": [
    "show_img(X_train[1040])\n",
    "print(y_train[1040])"
   ]
  },
  {
   "cell_type": "code",
   "execution_count": 10,
   "metadata": {},
   "outputs": [
    {
     "name": "stdout",
     "output_type": "stream",
     "text": [
      "0\n"
     ]
    },
    {
     "data": {
      "image/png": "[encoded data removed]",
      "text/plain": [
       "<Figure size 432x288 with 1 Axes>"
      ]
     },
     "metadata": {},
     "output_type": "display_data"
    }
   ],
   "source": [
    "show_img(X_test[623])\n",
    "print(y_test[623])"
   ]
  },
  {
   "cell_type": "markdown",
   "metadata": {},
   "source": [
    "### 환자의 폐"
   ]
  },
  {
   "cell_type": "code",
   "execution_count": 11,
   "metadata": {},
   "outputs": [
    {
     "name": "stdout",
     "output_type": "stream",
     "text": [
      "비정상!!\n"
     ]
    }
   ],
   "source": [
    "print(\"비정상!!\")\n",
    "multipleImages = glob('../notebook/chest_xray/train/PNEUMONIA/**')\n",
    "i_ = 0\n",
    "plt.rcParams['figure.figsize'] = (10.0, 10.0)\n",
    "# plt.subplots_adjust(wspace=0, hspace=0)\n",
    "for l in multipleImages[:9]:\n",
    "    im = cv2.imread(l)\n",
    "    im = cv2.resize(im, (_N_ROW , _N_COL)) \n",
    "    plt.subplot(3, 3, i_+1) #.set_title(l)\n",
    "    plt.imshow(im); \n",
    "#     plt.imshow(cv2.cvtColor(im, cv2.COLOR_BGR2RGB)); \n",
    "    plt.axis('off')\n",
    "    i_ += 1"
   ]
  },
  {
   "cell_type": "markdown",
   "metadata": {},
   "source": [
    "### 정상인의 폐"
   ]
  },
  {
   "cell_type": "code",
   "execution_count": 12,
   "metadata": {},
   "outputs": [
    {
     "name": "stdout",
     "output_type": "stream",
     "text": [
      "정상!!\n"
     ]
    }
   ],
   "source": [
    "print(\"정상!!\")\n",
    "multipleImages = glob('../notebook/chest_xray/train/NORMAL/**')\n",
    "i_ = 0\n",
    "plt.rcParams['figure.figsize'] = (10.0, 10.0)\n",
    "# plt.subplots_adjust(wspace=0, hspace=0)\n",
    "for l in multipleImages[:9]:\n",
    "    im = cv2.imread(l)\n",
    "    im = cv2.resize(im, (_N_ROW, _N_COL)) \n",
    "    plt.subplot(3, 3, i_+1) #.set_title(l)\n",
    "    plt.imshow(im); \n",
    "#     plt.imshow(cv2.cvtColor(im, cv2.COLOR_BGR2RGB)); \n",
    "    plt.axis('off')\n",
    "    i_ += 1"
   ]
  },
  {
   "cell_type": "markdown",
   "metadata": {},
   "source": [
    "### 에러 확인 함수 생성"
   ]
  },
  {
   "cell_type": "code",
   "execution_count": 6,
   "metadata": {},
   "outputs": [],
   "source": [
    "def confirmErr(realAnswerList, testAnswerList):\n",
    "    answerNum = 0\n",
    "    for i, eachAns in enumerate(realAnswerList):\n",
    "        if testAnswerList[i] == eachAns:\n",
    "            answerNum += 1\n",
    "    return float(len(realAnswerList)-answerNum)/float(len(realAnswerList))*100"
   ]
  },
  {
   "cell_type": "markdown",
   "metadata": {},
   "source": [
    "### 학습 모델을 설정한다."
   ]
  },
  {
   "cell_type": "code",
   "execution_count": 15,
   "metadata": {
    "scrolled": true
   },
   "outputs": [],
   "source": [
    "def study(trDataList, trLabelList, save_h5_name, log_txt_name):\n",
    "    trDataList = X_train\n",
    "    trLabelList = y_trainHot\n",
    "\n",
    "    # 모델 설정\n",
    "    model = km.Sequential()\n",
    "    model.add(kl.Conv2D(input_shape=(_N_ROW, _N_COL, 3), filters=10,\n",
    "                        kernel_size=(5, 5), strides=1  ))\n",
    "    model.add(kl.MaxPooling2D(pool_size=(2, 2)))\n",
    "    model.add(kl.Activation('relu'))\n",
    "    model.add(kl.Conv2D(filters=10,\n",
    "                        kernel_size=(5, 5), strides=1  ))\n",
    "    model.add(kl.MaxPooling2D(pool_size=(2, 2)))\n",
    "    model.add(kl.Activation('relu'))\n",
    "    model.add(kl.Conv2D(filters=10,\n",
    "                        kernel_size=(5, 5), strides=1  ))\n",
    "    model.add(kl.Activation('relu'))\n",
    "    model.add(kl.Flatten())\n",
    "    model.add(kl.Dense(2, activation='softmax'))\n",
    "\n",
    "    model.compile(loss='categorical_crossentropy', optimizer='adam', metrics=['accuracy'])\n",
    "    \n",
    "    # 모델 출력 \n",
    "    print(model.summary())\n",
    "    print('\\n\\n\\n')\n",
    "\n",
    "    # 학습 데이터를 추출하여 저장하고 출력한다\n",
    "    history_callback = model.fit(trDataList, trLabelList, epochs=20, batch_size=100, verbose=2)\n",
    "    loss_history = history_callback.history\n",
    "    train_log = ''\n",
    "    for i in range(len(loss_history['acc'])):\n",
    "        train_log += \"%d epoch _ acc : %.4f, loss : %.4f\\n\" % ( i+1, loss_history['acc'][i], loss_history['loss'][i] )\n",
    "\n",
    "    # 로그 기록 \n",
    "    fd = open(log_txt_name, 'w')\n",
    "    fd.write(train_log)\n",
    "    fd.close()\n",
    "\n",
    "    # 모델 저장 \n",
    "    km.save_model(model, save_h5_name) \n",
    "\n",
    "    # 실제 에러율 확인 \n",
    "    print ('err is  %f%%' % (confirmErr(np.argmax(trLabelList, axis=1), \n",
    "                                        np.argmax(model.predict(trDataList), axis=1))) )\n",
    "    \n",
    "    return model"
   ]
  },
  {
   "cell_type": "markdown",
   "metadata": {},
   "source": [
    "### 학습 수행 "
   ]
  },
  {
   "cell_type": "code",
   "execution_count": 16,
   "metadata": {
    "scrolled": true
   },
   "outputs": [
    {
     "name": "stdout",
     "output_type": "stream",
     "text": [
      "_________________________________________________________________\n",
      "Layer (type)                 Output Shape              Param #   \n",
      "=================================================================\n",
      "conv2d_7 (Conv2D)            (None, 146, 146, 10)      760       \n",
      "_________________________________________________________________\n",
      "max_pooling2d_5 (MaxPooling2 (None, 73, 73, 10)        0         \n",
      "_________________________________________________________________\n",
      "activation_7 (Activation)    (None, 73, 73, 10)        0         \n",
      "_________________________________________________________________\n",
      "conv2d_8 (Conv2D)            (None, 69, 69, 10)        2510      \n",
      "_________________________________________________________________\n",
      "max_pooling2d_6 (MaxPooling2 (None, 34, 34, 10)        0         \n",
      "_________________________________________________________________\n",
      "activation_8 (Activation)    (None, 34, 34, 10)        0         \n",
      "_________________________________________________________________\n",
      "conv2d_9 (Conv2D)            (None, 30, 30, 10)        2510      \n",
      "_________________________________________________________________\n",
      "activation_9 (Activation)    (None, 30, 30, 10)        0         \n",
      "_________________________________________________________________\n",
      "flatten_3 (Flatten)          (None, 9000)              0         \n",
      "_________________________________________________________________\n",
      "dense_3 (Dense)              (None, 2)                 18002     \n",
      "=================================================================\n",
      "Total params: 23,782\n",
      "Trainable params: 23,782\n",
      "Non-trainable params: 0\n",
      "_________________________________________________________________\n",
      "None\n",
      "\n",
      "\n",
      "\n",
      "\n",
      "Epoch 1/20\n",
      " - 155s - loss: 0.4021 - acc: 0.8104\n",
      "Epoch 2/20\n",
      " - 133s - loss: 0.1688 - acc: 0.9304\n",
      "Epoch 3/20\n",
      " - 114s - loss: 0.1368 - acc: 0.9486\n",
      "Epoch 4/20\n",
      " - 122s - loss: 0.1154 - acc: 0.9555\n",
      "Epoch 5/20\n",
      " - 141s - loss: 0.1075 - acc: 0.9576\n",
      "Epoch 6/20\n",
      " - 129s - loss: 0.0879 - acc: 0.9651\n",
      "Epoch 7/20\n",
      " - 122s - loss: 0.0859 - acc: 0.9666\n",
      "Epoch 8/20\n",
      " - 119s - loss: 0.0900 - acc: 0.9663\n",
      "Epoch 9/20\n",
      " - 139s - loss: 0.0773 - acc: 0.9707\n",
      "Epoch 10/20\n",
      " - 129s - loss: 0.0754 - acc: 0.9716\n",
      "Epoch 11/20\n",
      " - 126s - loss: 0.0622 - acc: 0.9764\n",
      "Epoch 12/20\n",
      " - 139s - loss: 0.0591 - acc: 0.9758\n",
      "Epoch 13/20\n",
      " - 125s - loss: 0.0560 - acc: 0.9793\n",
      "Epoch 14/20\n",
      " - 158s - loss: 0.0634 - acc: 0.9755\n",
      "Epoch 15/20\n",
      " - 131s - loss: 0.0528 - acc: 0.9801\n",
      "Epoch 16/20\n",
      " - 128s - loss: 0.0537 - acc: 0.9795\n",
      "Epoch 17/20\n",
      " - 132s - loss: 0.0659 - acc: 0.9755\n",
      "Epoch 18/20\n",
      " - 149s - loss: 0.0534 - acc: 0.9808\n",
      "Epoch 19/20\n",
      " - 146s - loss: 0.0466 - acc: 0.9827\n",
      "Epoch 20/20\n",
      " - 134s - loss: 0.0371 - acc: 0.9854\n",
      "err is  1.073620%\n"
     ]
    }
   ],
   "source": [
    "_model = study(trDataList = X_test, trLabelList = y_testHot, save_h5_name= 'model_plus_layer.h5', log_txt_name='train_log_plus_layer.txt')"
   ]
  },
  {
   "cell_type": "markdown",
   "metadata": {},
   "source": [
    "### 학습 결과를 test set 으로 확인"
   ]
  },
  {
   "cell_type": "code",
   "execution_count": 17,
   "metadata": {
    "scrolled": true
   },
   "outputs": [
    {
     "name": "stdout",
     "output_type": "stream",
     "text": [
      "The real err is  27.243590%\n"
     ]
    }
   ],
   "source": [
    "trDataList = X_test\n",
    "trLabelList = y_testHot\n",
    "\n",
    "# 실제 에러율 확인\n",
    "print ('The real err is  %f%%' % (confirmErr(np.argmax(trLabelList, axis=1), np.argmax(_model.predict(trDataList), axis=1))) )"
   ]
  },
  {
   "cell_type": "markdown",
   "metadata": {},
   "source": [
    "### 모델 파라미터를 가져와서 test 데이터 셋과 비교합니다"
   ]
  },
  {
   "cell_type": "code",
   "execution_count": 29,
   "metadata": {},
   "outputs": [],
   "source": [
    "def confirm_study(trDataList, trLabelList):\n",
    "    test_log = '' \n",
    "    # 모델 파라미터 로드\n",
    "    newModel = km.load_model('model.h5')\n",
    "\n",
    "    # 테스트\n",
    "    res = newModel.predict(trDataList)\n",
    "    print ('res', res.shape)\n",
    "    print (res)\n",
    "    print (np.argmax(res, axis=1))\n",
    "    print ()\n",
    "\n",
    "    test_log += 'res\\n\\n'\n",
    "    test_log += str(res.shape)\n",
    "    test_log += '\\n\\n'\n",
    "    test_log += str(res)\n",
    "    test_log += '\\n\\n'\n",
    "    test_log += str(np.argmax(res, axis=1))\n",
    "    test_log += '\\n\\n'\n",
    "\n",
    "    # 전체 에러 출력\n",
    "    err = confirmErr(np.argmax(trLabelList, axis=1), np.argmax(res, axis=1))\n",
    "    print ('Test set err is  %f%%' % ( err ))\n",
    "\n",
    "    test_log += '\\nTest set err is  %f%%\\n\\n' % (err)\n",
    "\n",
    "    fd = open('test_log.txt', 'w')\n",
    "    fd.write(test_log)\n",
    "    fd.close()"
   ]
  },
  {
   "cell_type": "code",
   "execution_count": 30,
   "metadata": {},
   "outputs": [
    {
     "name": "stdout",
     "output_type": "stream",
     "text": [
      "res (200, 2)\n",
      "[[ 0.40065441  0.59934562]\n",
      " [ 0.37865168  0.62134826]\n",
      " [ 0.36652836  0.63347155]\n",
      " [ 0.36283416  0.63716584]\n",
      " [ 0.42699265  0.57300735]\n",
      " [ 0.3695049   0.63049513]\n",
      " [ 0.42766535  0.57233465]\n",
      " [ 0.47247884  0.52752113]\n",
      " [ 0.38120604  0.61879396]\n",
      " [ 0.41807187  0.58192819]\n",
      " [ 0.46102351  0.53897655]\n",
      " [ 0.36381125  0.63618875]\n",
      " [ 0.45230317  0.54769683]\n",
      " [ 0.46187937  0.53812063]\n",
      " [ 0.39432648  0.60567349]\n",
      " [ 0.45906234  0.54093766]\n",
      " [ 0.38675377  0.61324626]\n",
      " [ 0.37412065  0.62587935]\n",
      " [ 0.4713167   0.5286833 ]\n",
      " [ 0.45820084  0.54179913]\n",
      " [ 0.3997471   0.60025287]\n",
      " [ 0.3724795   0.6275205 ]\n",
      " [ 0.43017918  0.56982088]\n",
      " [ 0.32728738  0.67271262]\n",
      " [ 0.34465358  0.65534651]\n",
      " [ 0.49502534  0.50497466]\n",
      " [ 0.34094384  0.65905619]\n",
      " [ 0.43317881  0.56682122]\n",
      " [ 0.32482624  0.67517376]\n",
      " [ 0.43247452  0.56752545]\n",
      " [ 0.35689729  0.64310265]\n",
      " [ 0.4450053   0.55499476]\n",
      " [ 0.36723065  0.63276935]\n",
      " [ 0.363673    0.63632703]\n",
      " [ 0.37385285  0.62614721]\n",
      " [ 0.5258581   0.47414193]\n",
      " [ 0.36869606  0.63130397]\n",
      " [ 0.38252816  0.61747181]\n",
      " [ 0.41813207  0.58186799]\n",
      " [ 0.44889778  0.55110222]\n",
      " [ 0.33930066  0.66069937]\n",
      " [ 0.32844132  0.67155868]\n",
      " [ 0.46815363  0.5318464 ]\n",
      " [ 0.40223387  0.59776616]\n",
      " [ 0.40816984  0.59183019]\n",
      " [ 0.36541387  0.63458616]\n",
      " [ 0.35342187  0.64657813]\n",
      " [ 0.53854674  0.4614532 ]\n",
      " [ 0.38686636  0.61313367]\n",
      " [ 0.44956937  0.55043066]\n",
      " [ 0.37908238  0.62091768]\n",
      " [ 0.45564002  0.54435998]\n",
      " [ 0.36733112  0.63266891]\n",
      " [ 0.38099951  0.61900049]\n",
      " [ 0.38614148  0.61385846]\n",
      " [ 0.39661446  0.60338551]\n",
      " [ 0.37220481  0.62779516]\n",
      " [ 0.39929017  0.60070986]\n",
      " [ 0.38888383  0.61111617]\n",
      " [ 0.525015    0.47498494]\n",
      " [ 0.40435603  0.59564388]\n",
      " [ 0.49140614  0.5085938 ]\n",
      " [ 0.35740316  0.6425969 ]\n",
      " [ 0.38373777  0.6162622 ]\n",
      " [ 0.39932737  0.6006726 ]\n",
      " [ 0.44189557  0.5581044 ]\n",
      " [ 0.39409307  0.6059069 ]\n",
      " [ 0.60262972  0.39737025]\n",
      " [ 0.42930076  0.57069927]\n",
      " [ 0.38602489  0.61397511]\n",
      " [ 0.34650308  0.65349692]\n",
      " [ 0.47970191  0.52029812]\n",
      " [ 0.33078054  0.66921949]\n",
      " [ 0.42606613  0.57393384]\n",
      " [ 0.45313787  0.54686213]\n",
      " [ 0.4637464   0.53625357]\n",
      " [ 0.44454718  0.55545282]\n",
      " [ 0.44163606  0.55836391]\n",
      " [ 0.4597944   0.54020566]\n",
      " [ 0.34574473  0.65425521]\n",
      " [ 0.51370126  0.48629877]\n",
      " [ 0.47675046  0.52324957]\n",
      " [ 0.40922531  0.59077477]\n",
      " [ 0.4329645   0.56703556]\n",
      " [ 0.43521911  0.56478089]\n",
      " [ 0.39563042  0.60436958]\n",
      " [ 0.49737933  0.50262064]\n",
      " [ 0.39419717  0.60580289]\n",
      " [ 0.40016279  0.59983718]\n",
      " [ 0.44584113  0.55415887]\n",
      " [ 0.3304483   0.66955167]\n",
      " [ 0.39392406  0.60607594]\n",
      " [ 0.44757622  0.55242378]\n",
      " [ 0.4898003   0.51019973]\n",
      " [ 0.38013431  0.61986566]\n",
      " [ 0.51768821  0.48231179]\n",
      " [ 0.42777082  0.57222921]\n",
      " [ 0.35726383  0.64273614]\n",
      " [ 0.41930616  0.58069384]\n",
      " [ 0.42890787  0.57109213]\n",
      " [ 0.50727886  0.49272117]\n",
      " [ 0.5205822   0.47941786]\n",
      " [ 0.48592365  0.51407641]\n",
      " [ 0.51360977  0.48639023]\n",
      " [ 0.40570387  0.5942961 ]\n",
      " [ 0.50374985  0.49625012]\n",
      " [ 0.4606503   0.53934973]\n",
      " [ 0.53817505  0.46182498]\n",
      " [ 0.46734864  0.53265136]\n",
      " [ 0.4634988   0.53650117]\n",
      " [ 0.45144477  0.5485552 ]\n",
      " [ 0.62955737  0.37044257]\n",
      " [ 0.57463408  0.42536598]\n",
      " [ 0.57220066  0.42779934]\n",
      " [ 0.5216471   0.4783529 ]\n",
      " [ 0.4626103   0.5373897 ]\n",
      " [ 0.51911211  0.48088783]\n",
      " [ 0.46377456  0.53622544]\n",
      " [ 0.58673346  0.41326654]\n",
      " [ 0.53863817  0.46136186]\n",
      " [ 0.47249526  0.52750474]\n",
      " [ 0.57467157  0.42532852]\n",
      " [ 0.46067128  0.53932863]\n",
      " [ 0.50807691  0.49192309]\n",
      " [ 0.45691332  0.54308677]\n",
      " [ 0.48825914  0.51174086]\n",
      " [ 0.48895949  0.51104051]\n",
      " [ 0.47983512  0.52016491]\n",
      " [ 0.57280946  0.42719048]\n",
      " [ 0.43861714  0.56138295]\n",
      " [ 0.46670055  0.53329951]\n",
      " [ 0.47850049  0.52149951]\n",
      " [ 0.39195436  0.60804564]\n",
      " [ 0.43237767  0.56762236]\n",
      " [ 0.52020448  0.47979558]\n",
      " [ 0.54133475  0.45866519]\n",
      " [ 0.38987589  0.61012411]\n",
      " [ 0.52885073  0.4711493 ]\n",
      " [ 0.53350174  0.46649826]\n",
      " [ 0.496364    0.50363594]\n",
      " [ 0.47501501  0.52498507]\n",
      " [ 0.49993655  0.50006348]\n",
      " [ 0.60554296  0.39445701]\n",
      " [ 0.44763389  0.55236614]\n",
      " [ 0.58035046  0.41964951]\n",
      " [ 0.52831012  0.47168991]\n",
      " [ 0.445916    0.554084  ]\n",
      " [ 0.53285027  0.46714976]\n",
      " [ 0.43478683  0.5652132 ]\n",
      " [ 0.56844723  0.43155274]\n",
      " [ 0.53488469  0.46511528]\n",
      " [ 0.53377324  0.46622676]\n",
      " [ 0.56574291  0.43425715]\n",
      " [ 0.44137248  0.55862749]\n",
      " [ 0.57125193  0.42874804]\n",
      " [ 0.51142389  0.48857608]\n",
      " [ 0.48924088  0.51075912]\n",
      " [ 0.51102501  0.48897508]\n",
      " [ 0.55382049  0.44617957]\n",
      " [ 0.55876976  0.44123027]\n",
      " [ 0.51243216  0.48756787]\n",
      " [ 0.461822    0.53817797]\n",
      " [ 0.56060743  0.43939254]\n",
      " [ 0.50586557  0.4941344 ]\n",
      " [ 0.51718289  0.48281711]\n",
      " [ 0.47565964  0.52434039]\n",
      " [ 0.53413218  0.46586788]\n",
      " [ 0.53440279  0.46559724]\n",
      " [ 0.57501638  0.42498359]\n",
      " [ 0.46927908  0.53072095]\n",
      " [ 0.50124079  0.49875924]\n",
      " [ 0.49253011  0.50746989]\n",
      " [ 0.43229082  0.56770927]\n",
      " [ 0.54882419  0.45117578]\n",
      " [ 0.43287385  0.56712615]\n",
      " [ 0.43599942  0.56400061]\n",
      " [ 0.42373163  0.57626843]\n",
      " [ 0.44540471  0.55459529]\n",
      " [ 0.50024956  0.49975041]\n",
      " [ 0.56346524  0.43653476]\n",
      " [ 0.55995142  0.44004849]\n",
      " [ 0.46068996  0.53931004]\n",
      " [ 0.46425197  0.535748  ]\n",
      " [ 0.49574137  0.50425863]\n",
      " [ 0.49227566  0.50772434]\n",
      " [ 0.48337722  0.51662278]\n",
      " [ 0.50089759  0.49910241]\n",
      " [ 0.52836823  0.4716318 ]\n",
      " [ 0.43707585  0.56292415]\n",
      " [ 0.56659031  0.43340969]\n",
      " [ 0.52850646  0.47149348]\n",
      " [ 0.47532952  0.52467048]\n",
      " [ 0.60259068  0.39740935]\n",
      " [ 0.45520294  0.544797  ]\n",
      " [ 0.5731799   0.42682013]\n",
      " [ 0.45843247  0.54156762]\n",
      " [ 0.54933131  0.45066863]\n",
      " [ 0.59079629  0.40920368]\n",
      " [ 0.54534197  0.454658  ]\n",
      " [ 0.50129998  0.49870011]]\n",
      "[1 1 1 1 1 1 1 1 1 1 1 1 1 1 1 1 1 1 1 1 1 1 1 1 1 1 1 1 1 1 1 1 1 1 1 0 1\n",
      " 1 1 1 1 1 1 1 1 1 1 0 1 1 1 1 1 1 1 1 1 1 1 0 1 1 1 1 1 1 1 0 1 1 1 1 1 1\n",
      " 1 1 1 1 1 1 0 1 1 1 1 1 1 1 1 1 1 1 1 1 1 0 1 1 1 1 0 0 1 0 1 0 1 0 1 1 1\n",
      " 0 0 0 0 1 0 1 0 0 1 0 1 0 1 1 1 1 0 1 1 1 1 1 0 0 1 0 0 1 1 1 0 1 0 0 1 0\n",
      " 1 0 0 0 0 1 0 0 1 0 0 0 0 1 0 0 0 1 0 0 0 1 0 1 1 0 1 1 1 1 0 0 0 1 1 1 1\n",
      " 1 0 0 1 0 0 1 0 1 0 1 0 0 0 0]\n",
      "\n",
      "Test set err is  26.000000%\n"
     ]
    }
   ],
   "source": [
    "trDataList = X_test\n",
    "trLabelList = y_testHot\n",
    "\n",
    "confirm_study(trDataList, trLabelList)"
   ]
  },
  {
   "cell_type": "code",
   "execution_count": null,
   "metadata": {},
   "outputs": [],
   "source": []
  },
  {
   "cell_type": "code",
   "execution_count": null,
   "metadata": {},
   "outputs": [],
   "source": []
  },
  {
   "cell_type": "code",
   "execution_count": null,
   "metadata": {},
   "outputs": [],
   "source": []
  },
  {
   "cell_type": "code",
   "execution_count": null,
   "metadata": {},
   "outputs": [],
   "source": []
  },
  {
   "cell_type": "code",
   "execution_count": 26,
   "metadata": {},
   "outputs": [
    {
     "data": {
      "text/plain": [
       "(150, 150, 1)"
      ]
     },
     "execution_count": 26,
     "metadata": {},
     "output_type": "execute_result"
    }
   ],
   "source": [
    "X_train[0].shape"
   ]
  },
  {
   "cell_type": "code",
   "execution_count": 22,
   "metadata": {},
   "outputs": [
    {
     "data": {
      "text/plain": [
       "(1998, 150, 150, 1)"
      ]
     },
     "execution_count": 22,
     "metadata": {},
     "output_type": "execute_result"
    }
   ],
   "source": [
    "X_train.shape"
   ]
  },
  {
   "cell_type": "code",
   "execution_count": null,
   "metadata": {},
   "outputs": [],
   "source": []
  },
  {
   "cell_type": "code",
   "execution_count": null,
   "metadata": {},
   "outputs": [],
   "source": []
  }
 ],
 "metadata": {
  "kernelspec": {
   "display_name": "Python 3",
   "language": "python",
   "name": "python3"
  },
  "language_info": {
   "codemirror_mode": {
    "name": "ipython",
    "version": 3
   },
   "file_extension": ".py",
   "mimetype": "text/x-python",
   "name": "python",
   "nbconvert_exporter": "python",
   "pygments_lexer": "ipython3",
   "version": "3.6.5"
  }
 },
 "nbformat": 4,
 "nbformat_minor": 2
}
